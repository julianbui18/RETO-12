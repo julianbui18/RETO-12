{
 "cells": [
  {
   "cell_type": "markdown",
   "id": "28cfe713",
   "metadata": {},
   "source": [
    "PUNTO 1"
   ]
  },
  {
   "cell_type": "code",
   "execution_count": 1,
   "id": "188dd529",
   "metadata": {},
   "outputs": [
    {
     "name": "stdout",
     "output_type": "stream",
     "text": [
      "Los valores ordenados son:\n",
      "1\n",
      "2\n",
      "5\n",
      "9\n"
     ]
    }
   ],
   "source": [
    "datos = {\"uno\": 5, \"dos\": 2, \"tres\": 9, \"cuatro\": 1}\n",
    "valores = list(datos.values())\n",
    "\n",
    "for vuelta in range(len(valores)):\n",
    "    for posicion in range(len(valores) - 1):\n",
    "        if valores[posicion] > valores[posicion + 1]:\n",
    "            \n",
    "            auxiliar = valores[posicion]\n",
    "            valores[posicion] = valores[posicion + 1]\n",
    "            valores[posicion + 1] = auxiliar\n",
    "\n",
    "print(\"Los valores ordenados son:\")\n",
    "for valor in valores:\n",
    "    print(valor)"
   ]
  },
  {
   "cell_type": "markdown",
   "id": "e10ea4b1",
   "metadata": {},
   "source": [
    "PUNTO 2"
   ]
  },
  {
   "cell_type": "code",
   "execution_count": 2,
   "id": "26601785",
   "metadata": {},
   "outputs": [
    {
     "name": "stdout",
     "output_type": "stream",
     "text": [
      "Diccionario mezclado:\n",
      "{'b': 2, 'd': 4, 'a': 1, 'c': 3}\n"
     ]
    }
   ],
   "source": [
    "def mezclar_diccionarios(dic1, dic2):\n",
    "    nuevo_diccionario = {}\n",
    "\n",
    "    for clave in dic2:\n",
    "        nuevo_diccionario[clave] = dic2[clave]\n",
    "    for clave in dic1:\n",
    "        nuevo_diccionario[clave] = dic1[clave]\n",
    "\n",
    "    return nuevo_diccionario\n",
    "\n",
    "diccionario1 = {\"a\": 1, \"b\": 2, \"c\": 3}\n",
    "diccionario2 = {\"b\": 9, \"d\": 4}\n",
    "\n",
    "resultado = mezclar_diccionarios(diccionario1, diccionario2)\n",
    "\n",
    "print(\"Diccionario mezclado:\")\n",
    "print(resultado)"
   ]
  },
  {
   "cell_type": "markdown",
   "id": "66be49c9",
   "metadata": {},
   "source": [
    "PUNTO 3"
   ]
  },
  {
   "cell_type": "code",
   "execution_count": 3,
   "id": "bdc0141b",
   "metadata": {},
   "outputs": [
    {
     "name": "stdout",
     "output_type": "stream",
     "text": [
      "Personas que practican Futbol:\n",
      "- Juan Antonio Diaz Coronado\n",
      "Personas entre 2 y 70 años:\n",
      "- Juan Antonio Diaz Coronado\n",
      "- Dorotea Maritza Luna Sol\n"
     ]
    }
   ],
   "source": [
    "import json\n",
    "\n",
    "with open(\"infopersonas.json\", \"r\") as archivo:\n",
    "    datos = json.load(archivo)\n",
    "\n",
    "deporte_buscado = input(\"Ingrese un deporte para buscar: \")\n",
    "\n",
    "print(\"Personas que practican\", deporte_buscado + \":\")\n",
    "\n",
    "for usuario in datos:\n",
    "    persona = datos[usuario]\n",
    "    if deporte_buscado in persona[\"deportes\"]:\n",
    "        nombre_completo = persona[\"nombres\"] + \" \" + persona[\"apellidos\"]\n",
    "        print(\"-\", nombre_completo)\n",
    "\n",
    "edad_minima = int(input(\"Edad mínima: \"))\n",
    "edad_maxima = int(input(\"Edad máxima: \"))\n",
    "\n",
    "print(\"Personas entre\", edad_minima, \"y\", edad_maxima, \"años:\")\n",
    "\n",
    "for usuario in datos:\n",
    "    persona = datos[usuario]\n",
    "    edad = persona[\"edad\"]\n",
    "    if edad > (edad_minima - 1) and edad < (edad_maxima + 1):\n",
    "        nombre_completo = persona[\"nombres\"] + \" \" + persona[\"apellidos\"]\n",
    "        print(\"-\", nombre_completo)"
   ]
  },
  {
   "cell_type": "markdown",
   "id": "599c743c",
   "metadata": {},
   "source": [
    "PUNTO 4"
   ]
  },
  {
   "cell_type": "code",
   "execution_count": 5,
   "id": "52627f26",
   "metadata": {},
   "outputs": [
    {
     "name": "stdout",
     "output_type": "stream",
     "text": [
      "API 1: Usuario aleatorio\n",
      "JSON completo:\n",
      "{'results': [{'gender': 'female', 'name': {'title': 'Ms', 'first': 'Gesa', 'last': 'Menke'}, 'location': {'street': {'number': 2757, 'name': 'Lindenweg'}, 'city': 'Braubach', 'state': 'Baden-Württemberg', 'country': 'Germany', 'postcode': 35670, 'coordinates': {'latitude': '-47.3575', 'longitude': '112.3086'}, 'timezone': {'offset': '+11:00', 'description': 'Magadan, Solomon Islands, New Caledonia'}}, 'email': 'gesa.menke@example.com', 'login': {'uuid': '59bf4920-44bf-42a2-b1c6-69bb1ff91305', 'username': 'heavygorilla608', 'password': 'scott', 'salt': 'qU9lOilf', 'md5': '1443c0768a9c5d14452728bf85e9a64c', 'sha1': '0b9b308ff2b97fc4cdc7fd3217dc314b03d0fc9a', 'sha256': '923c2e1d850ae78905ffd7c24e26f1381bfc1f539b49115d7ef1687f8e431994'}, 'dob': {'date': '1986-11-01T21:05:33.642Z', 'age': 38}, 'registered': {'date': '2016-08-31T11:50:09.931Z', 'age': 8}, 'phone': '0995-0203404', 'cell': '0178-9171888', 'id': {'name': 'SVNR', 'value': '77 011186 M 619'}, 'picture': {'large': 'https://randomuser.me/api/portraits/women/7.jpg', 'medium': 'https://randomuser.me/api/portraits/med/women/7.jpg', 'thumbnail': 'https://randomuser.me/api/portraits/thumb/women/7.jpg'}, 'nat': 'DE'}], 'info': {'seed': '08c45a2d24d06a8a', 'results': 1, 'page': 1, 'version': '1.4'}}\n",
      "Pares clave:valor del usuario:\n",
      "gender : female\n",
      "name : {'title': 'Ms', 'first': 'Gesa', 'last': 'Menke'}\n",
      "location : {'street': {'number': 2757, 'name': 'Lindenweg'}, 'city': 'Braubach', 'state': 'Baden-Württemberg', 'country': 'Germany', 'postcode': 35670, 'coordinates': {'latitude': '-47.3575', 'longitude': '112.3086'}, 'timezone': {'offset': '+11:00', 'description': 'Magadan, Solomon Islands, New Caledonia'}}\n",
      "email : gesa.menke@example.com\n",
      "login : {'uuid': '59bf4920-44bf-42a2-b1c6-69bb1ff91305', 'username': 'heavygorilla608', 'password': 'scott', 'salt': 'qU9lOilf', 'md5': '1443c0768a9c5d14452728bf85e9a64c', 'sha1': '0b9b308ff2b97fc4cdc7fd3217dc314b03d0fc9a', 'sha256': '923c2e1d850ae78905ffd7c24e26f1381bfc1f539b49115d7ef1687f8e431994'}\n",
      "dob : {'date': '1986-11-01T21:05:33.642Z', 'age': 38}\n",
      "registered : {'date': '2016-08-31T11:50:09.931Z', 'age': 8}\n",
      "phone : 0995-0203404\n",
      "cell : 0178-9171888\n",
      "id : {'name': 'SVNR', 'value': '77 011186 M 619'}\n",
      "picture : {'large': 'https://randomuser.me/api/portraits/women/7.jpg', 'medium': 'https://randomuser.me/api/portraits/med/women/7.jpg', 'thumbnail': 'https://randomuser.me/api/portraits/thumb/women/7.jpg'}\n",
      "nat : DE\n",
      "--------------------------------------------------\n",
      "API 2: Chiste corto (setup + punchline)\n",
      "JSON completo:\n",
      "{'type': 'general', 'setup': 'How do you make a hankie dance?', 'punchline': 'Put a little boogie in it.', 'id': 127}\n",
      "Pares clave:valor del chiste:\n",
      "type : general\n",
      "setup : How do you make a hankie dance?\n",
      "punchline : Put a little boogie in it.\n",
      "id : 127\n",
      "--------------------------------------------------\n",
      "API 3: Nacionalidad probable del nombre 'nathaniel'\n",
      "JSON completo:\n",
      "{'count': 6172, 'name': 'nathaniel', 'country': [{'country_id': 'NG', 'probability': 0.17632453512718907}, {'country_id': 'GH', 'probability': 0.08304361297013127}, {'country_id': 'NE', 'probability': 0.07164615880444838}, {'country_id': 'US', 'probability': 0.032019319698424385}, {'country_id': 'ID', 'probability': 0.02637540425400123}]}\n",
      "Pares clave:valor del nombre:\n",
      "count : 6172\n",
      "name : nathaniel\n",
      "country : [{'country_id': 'NG', 'probability': 0.17632453512718907}, {'country_id': 'GH', 'probability': 0.08304361297013127}, {'country_id': 'NE', 'probability': 0.07164615880444838}, {'country_id': 'US', 'probability': 0.032019319698424385}, {'country_id': 'ID', 'probability': 0.02637540425400123}]\n",
      "--------------------------------------------------\n"
     ]
    }
   ],
   "source": [
    "import requests\n",
    "\n",
    "def imprimir_pares(diccionario):\n",
    "    for clave in diccionario:\n",
    "        print(clave, \":\", diccionario[clave])\n",
    "\n",
    "print(\"API 1: Usuario aleatorio\")\n",
    "respuesta1 = requests.get(\"https://randomuser.me/api/\") \n",
    "datos1 = respuesta1.json()  \n",
    "print(\"JSON completo:\") \n",
    "print(datos1)\n",
    "\n",
    "usuario1 = datos1[\"results\"][0]\n",
    "\n",
    "print(\"Pares clave:valor del usuario:\")\n",
    "imprimir_pares(usuario1)\n",
    "\n",
    "print(\"--------------------------------------------------\")\n",
    "\n",
    "print(\"API 2: Chiste corto (setup + punchline)\")\n",
    "respuesta2 = requests.get(\"https://official-joke-api.appspot.com/random_joke\") \n",
    "datos2 = respuesta2.json() \n",
    "print(\"JSON completo:\") \n",
    "print(datos2)\n",
    "\n",
    "print(\"Pares clave:valor del chiste:\")\n",
    "imprimir_pares(datos2)\n",
    "\n",
    "print(\"--------------------------------------------------\")\n",
    "\n",
    "print(\"API 3: Nacionalidad probable del nombre 'nathaniel'\")\n",
    "respuesta3 = requests.get(\"https://api.nationalize.io/?name=nathaniel\")  \n",
    "datos3 = respuesta3.json() \n",
    "print(\"JSON completo:\")\n",
    "print(datos3)\n",
    "\n",
    "print(\"Pares clave:valor del nombre:\")\n",
    "imprimir_pares(datos3)\n",
    "\n",
    "print(\"--------------------------------------------------\")"
   ]
  }
 ],
 "metadata": {
  "kernelspec": {
   "display_name": "Python 3",
   "language": "python",
   "name": "python3"
  },
  "language_info": {
   "codemirror_mode": {
    "name": "ipython",
    "version": 3
   },
   "file_extension": ".py",
   "mimetype": "text/x-python",
   "name": "python",
   "nbconvert_exporter": "python",
   "pygments_lexer": "ipython3",
   "version": "3.10.11"
  }
 },
 "nbformat": 4,
 "nbformat_minor": 5
}
