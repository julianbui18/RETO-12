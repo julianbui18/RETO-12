{
 "cells": [
  {
   "cell_type": "markdown",
   "id": "28cfe713",
   "metadata": {},
   "source": [
    "PUNTO 1"
   ]
  },
  {
   "cell_type": "code",
   "execution_count": 1,
   "id": "188dd529",
   "metadata": {},
   "outputs": [
    {
     "name": "stdout",
     "output_type": "stream",
     "text": [
      "Los valores ordenados son:\n",
      "1\n",
      "2\n",
      "5\n",
      "9\n"
     ]
    }
   ],
   "source": [
    "datos = {\"uno\": 5, \"dos\": 2, \"tres\": 9, \"cuatro\": 1}\n",
    "valores = list(datos.values())\n",
    "\n",
    "for vuelta in range(len(valores)):\n",
    "    for posicion in range(len(valores) - 1):\n",
    "        if valores[posicion] > valores[posicion + 1]:\n",
    "            \n",
    "            auxiliar = valores[posicion]\n",
    "            valores[posicion] = valores[posicion + 1]\n",
    "            valores[posicion + 1] = auxiliar\n",
    "\n",
    "print(\"Los valores ordenados son:\")\n",
    "for valor in valores:\n",
    "    print(valor)"
   ]
  },
  {
   "cell_type": "markdown",
   "id": "e10ea4b1",
   "metadata": {},
   "source": [
    "PUNTO 2"
   ]
  },
  {
   "cell_type": "code",
   "execution_count": 2,
   "id": "26601785",
   "metadata": {},
   "outputs": [
    {
     "name": "stdout",
     "output_type": "stream",
     "text": [
      "Diccionario mezclado:\n",
      "{'b': 2, 'd': 4, 'a': 1, 'c': 3}\n"
     ]
    }
   ],
   "source": [
    "def mezclar_diccionarios(dic1, dic2):\n",
    "    nuevo_diccionario = {}\n",
    "\n",
    "    for clave in dic2:\n",
    "        nuevo_diccionario[clave] = dic2[clave]\n",
    "    for clave in dic1:\n",
    "        nuevo_diccionario[clave] = dic1[clave]\n",
    "\n",
    "    return nuevo_diccionario\n",
    "\n",
    "diccionario1 = {\"a\": 1, \"b\": 2, \"c\": 3}\n",
    "diccionario2 = {\"b\": 9, \"d\": 4}\n",
    "\n",
    "resultado = mezclar_diccionarios(diccionario1, diccionario2)\n",
    "\n",
    "print(\"Diccionario mezclado:\")\n",
    "print(resultado)"
   ]
  },
  {
   "cell_type": "markdown",
   "id": "66be49c9",
   "metadata": {},
   "source": [
    "PUNTO 3"
   ]
  },
  {
   "cell_type": "code",
   "execution_count": 3,
   "id": "bdc0141b",
   "metadata": {},
   "outputs": [
    {
     "name": "stdout",
     "output_type": "stream",
     "text": [
      "Personas que practican Futbol:\n",
      "- Juan Antonio Diaz Coronado\n",
      "Personas entre 2 y 70 años:\n",
      "- Juan Antonio Diaz Coronado\n",
      "- Dorotea Maritza Luna Sol\n"
     ]
    }
   ],
   "source": [
    "import json\n",
    "\n",
    "with open(\"infopersonas.json\", \"r\") as archivo:\n",
    "    datos = json.load(archivo)\n",
    "\n",
    "deporte_buscado = input(\"Ingrese un deporte para buscar: \")\n",
    "\n",
    "print(\"Personas que practican\", deporte_buscado + \":\")\n",
    "\n",
    "for usuario in datos:\n",
    "    persona = datos[usuario]\n",
    "    if deporte_buscado in persona[\"deportes\"]:\n",
    "        nombre_completo = persona[\"nombres\"] + \" \" + persona[\"apellidos\"]\n",
    "        print(\"-\", nombre_completo)\n",
    "\n",
    "edad_minima = int(input(\"Edad mínima: \"))\n",
    "edad_maxima = int(input(\"Edad máxima: \"))\n",
    "\n",
    "print(\"Personas entre\", edad_minima, \"y\", edad_maxima, \"años:\")\n",
    "\n",
    "for usuario in datos:\n",
    "    persona = datos[usuario]\n",
    "    edad = persona[\"edad\"]\n",
    "    if edad > (edad_minima - 1) and edad < (edad_maxima + 1):\n",
    "        nombre_completo = persona[\"nombres\"] + \" \" + persona[\"apellidos\"]\n",
    "        print(\"-\", nombre_completo)"
   ]
  },
  {
   "cell_type": "markdown",
   "id": "599c743c",
   "metadata": {},
   "source": [
    "PUNTO 4"
   ]
  },
  {
   "cell_type": "code",
   "execution_count": 1,
   "id": "52627f26",
   "metadata": {},
   "outputs": [
    {
     "name": "stdout",
     "output_type": "stream",
     "text": [
      "API 1: Usuario aleatorio\n",
      "JSON completo:\n",
      "{'results': [{'gender': 'female', 'name': {'title': 'Miss', 'first': 'Guadalupe', 'last': 'Meraz'}, 'location': {'street': {'number': 4273, 'name': 'Viaducto Sinaloa'}, 'city': 'Moroleón', 'state': 'Coahuila', 'country': 'Mexico', 'postcode': 26364, 'coordinates': {'latitude': '28.8805', 'longitude': '58.9706'}, 'timezone': {'offset': '+6:00', 'description': 'Almaty, Dhaka, Colombo'}}, 'email': 'guadalupe.meraz@example.com', 'login': {'uuid': '782c6f83-2e2f-4843-b5bd-0bd72f643e6b', 'username': 'ticklishbear771', 'password': 'popper', 'salt': '5l0IqnDu', 'md5': 'bafd8a828da2fc3eb5815e91ac5e9300', 'sha1': '514f345e1e119cc998a5fbb83a074f1a2e69493e', 'sha256': '5a2d4b81309c1227b1427706945a5aff0981d23c78bfccf614c7fa9dd867e70e'}, 'dob': {'date': '1991-12-18T22:09:44.638Z', 'age': 33}, 'registered': {'date': '2011-12-18T05:04:49.365Z', 'age': 13}, 'phone': '(694) 229 4781', 'cell': '(610) 615 6866', 'id': {'name': 'NSS', 'value': '34 54 35 2246 9'}, 'picture': {'large': 'https://randomuser.me/api/portraits/women/18.jpg', 'medium': 'https://randomuser.me/api/portraits/med/women/18.jpg', 'thumbnail': 'https://randomuser.me/api/portraits/thumb/women/18.jpg'}, 'nat': 'MX'}], 'info': {'seed': '30b0fdf2711a4465', 'results': 1, 'page': 1, 'version': '1.4'}}\n",
      "Pares clave:valor del usuario:\n",
      "gender : female\n",
      "name : {'title': 'Miss', 'first': 'Guadalupe', 'last': 'Meraz'}\n",
      "location : {'street': {'number': 4273, 'name': 'Viaducto Sinaloa'}, 'city': 'Moroleón', 'state': 'Coahuila', 'country': 'Mexico', 'postcode': 26364, 'coordinates': {'latitude': '28.8805', 'longitude': '58.9706'}, 'timezone': {'offset': '+6:00', 'description': 'Almaty, Dhaka, Colombo'}}\n",
      "email : guadalupe.meraz@example.com\n",
      "login : {'uuid': '782c6f83-2e2f-4843-b5bd-0bd72f643e6b', 'username': 'ticklishbear771', 'password': 'popper', 'salt': '5l0IqnDu', 'md5': 'bafd8a828da2fc3eb5815e91ac5e9300', 'sha1': '514f345e1e119cc998a5fbb83a074f1a2e69493e', 'sha256': '5a2d4b81309c1227b1427706945a5aff0981d23c78bfccf614c7fa9dd867e70e'}\n",
      "dob : {'date': '1991-12-18T22:09:44.638Z', 'age': 33}\n",
      "registered : {'date': '2011-12-18T05:04:49.365Z', 'age': 13}\n",
      "phone : (694) 229 4781\n",
      "cell : (610) 615 6866\n",
      "id : {'name': 'NSS', 'value': '34 54 35 2246 9'}\n",
      "picture : {'large': 'https://randomuser.me/api/portraits/women/18.jpg', 'medium': 'https://randomuser.me/api/portraits/med/women/18.jpg', 'thumbnail': 'https://randomuser.me/api/portraits/thumb/women/18.jpg'}\n",
      "nat : MX\n",
      " \n",
      "API 2: Chiste corto (setup + punchline)\n",
      "JSON completo:\n",
      "{'type': 'general', 'setup': 'Why do crabs never give to charity?', 'punchline': 'Because they’re shellfish.', 'id': 346}\n",
      "Pares clave:valor del chiste:\n",
      "type : general\n",
      "setup : Why do crabs never give to charity?\n",
      "punchline : Because they’re shellfish.\n",
      "id : 346\n",
      " \n",
      "API 3: Nacionalidad probable del nombre 'nathaniel'\n",
      "JSON completo:\n",
      "{'count': 6172, 'name': 'nathaniel', 'country': [{'country_id': 'NG', 'probability': 0.17632453512718907}, {'country_id': 'GH', 'probability': 0.08304361297013127}, {'country_id': 'NE', 'probability': 0.07164615880444838}, {'country_id': 'US', 'probability': 0.032019319698424385}, {'country_id': 'ID', 'probability': 0.02637540425400123}]}\n",
      "Pares clave:valor del nombre:\n",
      "count : 6172\n",
      "name : nathaniel\n",
      "country : [{'country_id': 'NG', 'probability': 0.17632453512718907}, {'country_id': 'GH', 'probability': 0.08304361297013127}, {'country_id': 'NE', 'probability': 0.07164615880444838}, {'country_id': 'US', 'probability': 0.032019319698424385}, {'country_id': 'ID', 'probability': 0.02637540425400123}]\n",
      " \n"
     ]
    }
   ],
   "source": [
    "import requests\n",
    "\n",
    "def imprimir_pares(diccionario):\n",
    "    for clave in diccionario:\n",
    "        print(clave, \":\", diccionario[clave])\n",
    "\n",
    "print(\"API 1: Usuario aleatorio\")\n",
    "respuesta1 = requests.get(\"https://randomuser.me/api/\") \n",
    "datos1 = respuesta1.json()  \n",
    "print(\"JSON completo:\") \n",
    "print(datos1)\n",
    "\n",
    "usuario1 = datos1[\"results\"][0]\n",
    "\n",
    "print(\"Pares clave:valor del usuario:\")\n",
    "imprimir_pares(usuario1)\n",
    "\n",
    "print(\" \")\n",
    "\n",
    "print(\"API 2: Chiste corto (setup + punchline)\")\n",
    "respuesta2 = requests.get(\"https://official-joke-api.appspot.com/random_joke\") \n",
    "datos2 = respuesta2.json() \n",
    "print(\"JSON completo:\") \n",
    "print(datos2)\n",
    "\n",
    "print(\"Pares clave:valor del chiste:\")\n",
    "imprimir_pares(datos2)\n",
    "\n",
    "print(\" \")\n",
    "\n",
    "print(\"API 3: Nacionalidad probable del nombre 'nathaniel'\")\n",
    "respuesta3 = requests.get(\"https://api.nationalize.io/?name=nathaniel\")  \n",
    "datos3 = respuesta3.json() \n",
    "print(\"JSON completo:\")\n",
    "print(datos3)\n",
    "\n",
    "print(\"Pares clave:valor del nombre:\")\n",
    "imprimir_pares(datos3)\n",
    "\n",
    "print(\" \")"
   ]
  },
  {
   "cell_type": "markdown",
   "id": "570bbd37",
   "metadata": {},
   "source": [
    "PUNTO 5"
   ]
  },
  {
   "cell_type": "code",
   "execution_count": 2,
   "id": "62a7cb2c",
   "metadata": {},
   "outputs": [
    {
     "name": "stdout",
     "output_type": "stream",
     "text": [
      "Fecha: 2023-05-26\n",
      "Tipo de alerta: Lluvias\n",
      "Valor: 40.0 mm\n",
      " \n",
      "Fecha: 2023-05-27\n",
      "Tipo de alerta: Temperatura mínima\n",
      "Valor: 24.64 °C\n",
      " \n",
      "Fecha: 2023-05-28\n",
      "Tipo de alerta: Viento fuerte\n",
      "Valor: 5.38 m/s\n",
      " \n",
      "Fecha: 2023-05-31\n",
      "Tipo de alerta: Temperatura máxima\n",
      "Valor: 29.78 °C\n",
      " \n"
     ]
    }
   ],
   "source": [
    "import json\n",
    "from datetime import datetime\n",
    "\n",
    "texto_clima = '''\n",
    "{\n",
    "  \"dt\": {\"0\": 1685116800, \"1\": 1685203200, \"2\": 1685289600, \"3\": 1685376000, \"4\": 1685462400, \"5\": 1685548800, \"6\": 1685635200, \"7\": 1685721600},\n",
    "  \"alertPrecip\": {\"0\": \"X\", \"1\": \"-\", \"2\": \"-\", \"3\": \"-\", \"4\": \"-\", \"5\": \"-\", \"6\": \"-\", \"7\": \"-\"},\n",
    "  \"alertAlertas\": {\"0\": \"-\", \"1\": \"-\", \"2\": \"-\", \"3\": \"-\", \"4\": \"-\", \"5\": \"-\", \"6\": \"-\", \"7\": \"-\"},\n",
    "  \"alertVelViento\": {\"0\": \"-\", \"1\": \"-\", \"2\": \"X\", \"3\": \"-\", \"4\": \"-\", \"5\": \"-\", \"6\": \"-\", \"7\": \"-\"},\n",
    "  \"alertTmpMax\": {\"0\": \"-\", \"1\": \"-\", \"2\": \"-\", \"3\": \"-\", \"4\": \"-\", \"5\": \"X\", \"6\": \"-\", \"7\": \"-\"},\n",
    "  \"alertTmpMin\": {\"0\": \"-\", \"1\": \"X\", \"2\": \"-\", \"3\": \"-\", \"4\": \"-\", \"5\": \"-\", \"6\": \"-\", \"7\": \"-\"},\n",
    "  \"prcp\": {\"0\": 40.0, \"1\": 1.65, \"2\": 14.01, \"3\": 5.07, \"4\": 16.55, \"5\": 2.17, \"6\": 2.77, \"7\": 1.73},\n",
    "  \"velViento\": {\"0\": 3.56, \"1\": 5.07, \"2\": 5.38, \"3\": 3.95, \"4\": 4.74, \"5\": 3.75, \"6\": 4.08, \"7\": 5.94},\n",
    "  \"tmpMax\": {\"0\": 27.16, \"1\": 31.1, \"2\": 30.2, \"3\": 29.5, \"4\": 28.87, \"5\": 29.78, \"6\": 28.96, \"7\": 28.25},\n",
    "  \"tmpMin\": {\"0\": 25.64, \"1\": 24.64, \"2\": 25.84, \"3\": 25.56, \"4\": 25.72, \"5\": 24.86, \"6\": 25.96, \"7\": 25.47}\n",
    "}\n",
    "'''\n",
    "\n",
    "clima = json.loads(texto_clima)\n",
    "\n",
    "tipos_alerta = {\n",
    "    \"alertPrecip\": {\"nombre\": \"Lluvias\", \"dato\": \"prcp\", \"unidad\": \"mm\"},\n",
    "    \"alertVelViento\": {\"nombre\": \"Viento fuerte\", \"dato\": \"velViento\", \"unidad\": \"m/s\"},\n",
    "    \"alertTmpMax\": {\"nombre\": \"Temperatura máxima\", \"dato\": \"tmpMax\", \"unidad\": \"°C\"},\n",
    "    \"alertTmpMin\": {\"nombre\": \"Temperatura mínima\", \"dato\": \"tmpMin\", \"unidad\": \"°C\"},\n",
    "    \"alertAlertas\": {\"nombre\": \"Alerta general\", \"dato\": \"ninguno\", \"unidad\": \"\"}\n",
    "}\n",
    "\n",
    "def convertir_fecha(numero_unix):\n",
    "    return datetime.utcfromtimestamp(numero_unix).strftime('%Y-%m-%d')\n",
    "\n",
    "for dia_actual in range(8):\n",
    "    for nombre_alerta in tipos_alerta:\n",
    "        if clima[nombre_alerta][str(dia_actual)] == \"X\":\n",
    "            fecha = convertir_fecha(clima[\"dt\"][str(dia_actual)])\n",
    "            nombre_evento = tipos_alerta[nombre_alerta][\"nombre\"]\n",
    "            dato_relacionado = tipos_alerta[nombre_alerta][\"dato\"]\n",
    "            if dato_relacionado != \"ninguno\":\n",
    "                valor = clima[dato_relacionado][str(dia_actual)]\n",
    "                unidad = tipos_alerta[nombre_alerta][\"unidad\"]\n",
    "                print(\"Fecha:\", fecha)\n",
    "                print(\"Tipo de alerta:\", nombre_evento)\n",
    "                print(\"Valor:\", valor, unidad)\n",
    "                print(\" \")\n",
    "            else:\n",
    "                print(\"Fecha:\", fecha)\n",
    "                print(\"Tipo de alerta:\", nombre_evento)\n",
    "                print(\"No tiene valor asociado\")\n",
    "                print(\" \")"
   ]
  }
 ],
 "metadata": {
  "kernelspec": {
   "display_name": "Python 3",
   "language": "python",
   "name": "python3"
  },
  "language_info": {
   "codemirror_mode": {
    "name": "ipython",
    "version": 3
   },
   "file_extension": ".py",
   "mimetype": "text/x-python",
   "name": "python",
   "nbconvert_exporter": "python",
   "pygments_lexer": "ipython3",
   "version": "3.10.11"
  }
 },
 "nbformat": 4,
 "nbformat_minor": 5
}
